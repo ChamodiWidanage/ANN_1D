{
 "cells": [
  {
   "cell_type": "markdown",
   "id": "bce06074-b5c2-4913-890f-cb599b203ed2",
   "metadata": {},
   "source": [
    "## Import libraries"
   ]
  },
  {
   "cell_type": "code",
   "execution_count": 2,
   "outputs": [],
   "source": [
    "from pathlib import Path\n",
    "import pandas as pd\n",
    "import math\n",
    "import openpyxl"
   ],
   "metadata": {
    "collapsed": false,
    "ExecuteTime": {
     "end_time": "2023-12-14T07:11:25.730520Z",
     "start_time": "2023-12-14T07:11:25.705398200Z"
    }
   },
   "id": "34feb292-f5a4-45b9-aa07-22571998d2e1"
  },
  {
   "cell_type": "markdown",
   "source": [
    "# Create peak pressure file - Attempt 1 (without peak index)"
   ],
   "metadata": {
    "collapsed": false
   },
   "id": "22d05affddf4eb66"
  },
  {
   "cell_type": "markdown",
   "id": "446d2850-b45e-4d5f-86dd-fa14200e168b",
   "metadata": {
    "tags": []
   },
   "source": [
    "## Access input folders"
   ]
  },
  {
   "cell_type": "code",
   "execution_count": 3,
   "id": "444c2bb8-1d9e-4aca-baec-9d85bd985ece",
   "metadata": {
    "ExecuteTime": {
     "end_time": "2023-12-14T07:11:34.935051400Z",
     "start_time": "2023-12-14T07:11:34.885499300Z"
    }
   },
   "outputs": [
    {
     "name": "stdout",
     "output_type": "stream",
     "text": [
      "1 8series_tracers_impulse\n",
      "2 [WindowsPath('8series_tracers_impulse/L803'), WindowsPath('8series_tracers_impulse/L805'), WindowsPath('8series_tracers_impulse/L807'), WindowsPath('8series_tracers_impulse/L811'), WindowsPath('8series_tracers_impulse/L815'), WindowsPath('8series_tracers_impulse/L819'), WindowsPath('8series_tracers_impulse/L823'), WindowsPath('8series_tracers_impulse/L826'), WindowsPath('8series_tracers_impulse/L831'), WindowsPath('8series_tracers_impulse/L834')]\n"
     ]
    }
   ],
   "source": [
    "#Access input folder\n",
    "input_dir1 = Path (\"8series_tracers_impulse\")\n",
    "print (\"1\",input_dir1)\n",
    "\n",
    "#Access folders inside input folder\n",
    "input_dir2 =  [folder for folder in input_dir1.iterdir() if folder.is_dir()]\n",
    "print (\"2\",input_dir2)"
   ]
  },
  {
   "cell_type": "markdown",
   "id": "f639c56a-0011-486f-8150-c1bd12e30d00",
   "metadata": {
    "jp-MarkdownHeadingCollapsed": true,
    "tags": []
   },
   "source": [
    "## Create output files 1"
   ]
  },
  {
   "cell_type": "code",
   "execution_count": null,
   "id": "d4d6ba62-e4bd-4c60-bae7-0f7eebbe9bd8",
   "metadata": {},
   "outputs": [],
   "source": [
    "%%timeit -r1 -n1\n",
    "# define current work directory\n",
    "current_dir = Path.cwd()\n",
    "\n",
    "# access the template to be used to generate files\n",
    "excel_template = current_dir/ \"Template.xlsx\"\n",
    "\n",
    "# Access each folder inside input folder\n",
    "for folder in input_dir2:\n",
    "    print (\"folder\", folder)\n",
    "    \n",
    "    # Make a list of data file names\n",
    "    files = list(folder.rglob(\"*\"))\n",
    "    \n",
    "    # Make a set of file names\n",
    "    keys = set (file.stem for file in files)\n",
    "    \n",
    "    # Use xlwings library to create excel files\n",
    "    with xw.App (visible = False) as app:\n",
    "        \n",
    "        # for loop for keys\n",
    "        for key in keys:\n",
    "            \n",
    "            # Open template excel file\n",
    "            wb = app.books.open(excel_template)\n",
    "            \n",
    "            # for loop for files\n",
    "            for file in files:\n",
    "                if file.stem == key:\n",
    "                    print (\"file.stem = \", file.stem)\n",
    "                    print (\"key = \", key)\n",
    "                    df = pd.read_csv(file, delimiter=\"\\s+\", skiprows = 8, skipfooter = 1, header = None, names = [\"time\", \"pressure\"])\n",
    "                    wb.sheets[0].range(\"A1\").options(index=False).value = df\n",
    "            output_dir = current_dir/ \"Pressure_curves_excel\"\n",
    "            output_dir.mkdir(exist_ok = True)\n",
    "            output_dir1 = output_dir/ folder.stem\n",
    "            output_dir1.mkdir(exist_ok = True)\n",
    "            wb.save(output_dir1/f\"{key}.xlsx\")\n",
    "        #print (\"file\",folder.stem, file.stem)\n",
    "        #current_dir = Path.cwd()\n",
    "        #excel_template = current_dir/ \"Template.xlsx\"\n",
    "        "
   ]
  },
  {
   "cell_type": "markdown",
   "id": "6be55513-d92d-4069-b7c3-1291dd6efadd",
   "metadata": {},
   "source": [
    "## Create output files 2"
   ]
  },
  {
   "cell_type": "code",
   "execution_count": 4,
   "id": "28ac30c9-9a38-4e3e-bafb-0e9e680d176c",
   "metadata": {
    "ExecuteTime": {
     "end_time": "2023-12-14T07:12:30.172407200Z",
     "start_time": "2023-12-14T07:12:29.625349700Z"
    }
   },
   "outputs": [
    {
     "name": "stdout",
     "output_type": "stream",
     "text": [
      "Empty DataFrame\n",
      "Columns: [Charge_mass, Standoff_distance, Peak_Impulse, Peak_Time]\n",
      "Index: []\n",
      "folder 8series_tracers_impulse\\L803\n",
      "file 8series_tracers_impulse\\L803\\I11\n",
      "file 8series_tracers_impulse\\L803\\I13\n",
      "file 8series_tracers_impulse\\L803\\I15\n",
      "file 8series_tracers_impulse\\L803\\I17\n",
      "file 8series_tracers_impulse\\L803\\I19\n",
      "file 8series_tracers_impulse\\L803\\I2\n",
      "file 8series_tracers_impulse\\L803\\I21\n",
      "file 8series_tracers_impulse\\L803\\I23\n",
      "file 8series_tracers_impulse\\L803\\I25\n",
      "file 8series_tracers_impulse\\L803\\I27\n",
      "file 8series_tracers_impulse\\L803\\I29\n",
      "file 8series_tracers_impulse\\L803\\I3\n",
      "file 8series_tracers_impulse\\L803\\I31\n",
      "file 8series_tracers_impulse\\L803\\I33\n",
      "file 8series_tracers_impulse\\L803\\I35\n",
      "file 8series_tracers_impulse\\L803\\I37\n",
      "file 8series_tracers_impulse\\L803\\I39\n",
      "file 8series_tracers_impulse\\L803\\I40\n",
      "file 8series_tracers_impulse\\L803\\I5\n",
      "file 8series_tracers_impulse\\L803\\I7\n",
      "file 8series_tracers_impulse\\L803\\I9\n",
      "folder 8series_tracers_impulse\\L805\n",
      "file 8series_tracers_impulse\\L805\\I11\n",
      "file 8series_tracers_impulse\\L805\\I13\n",
      "file 8series_tracers_impulse\\L805\\I15\n",
      "file 8series_tracers_impulse\\L805\\I17\n",
      "file 8series_tracers_impulse\\L805\\I19\n",
      "file 8series_tracers_impulse\\L805\\I2\n",
      "file 8series_tracers_impulse\\L805\\I21\n",
      "file 8series_tracers_impulse\\L805\\I23\n",
      "file 8series_tracers_impulse\\L805\\I25\n",
      "file 8series_tracers_impulse\\L805\\I27\n",
      "file 8series_tracers_impulse\\L805\\I29\n",
      "file 8series_tracers_impulse\\L805\\I3\n",
      "file 8series_tracers_impulse\\L805\\I31\n",
      "file 8series_tracers_impulse\\L805\\I33\n",
      "file 8series_tracers_impulse\\L805\\I35\n",
      "file 8series_tracers_impulse\\L805\\I37\n",
      "file 8series_tracers_impulse\\L805\\I39\n",
      "file 8series_tracers_impulse\\L805\\I40\n",
      "file 8series_tracers_impulse\\L805\\I5\n",
      "file 8series_tracers_impulse\\L805\\I7\n",
      "file 8series_tracers_impulse\\L805\\I9\n",
      "folder 8series_tracers_impulse\\L807\n",
      "file 8series_tracers_impulse\\L807\\I11\n",
      "file 8series_tracers_impulse\\L807\\I13\n",
      "file 8series_tracers_impulse\\L807\\I15\n",
      "file 8series_tracers_impulse\\L807\\I17\n",
      "file 8series_tracers_impulse\\L807\\I19\n",
      "file 8series_tracers_impulse\\L807\\I2\n",
      "file 8series_tracers_impulse\\L807\\I21\n",
      "file 8series_tracers_impulse\\L807\\I23\n",
      "file 8series_tracers_impulse\\L807\\I25\n",
      "file 8series_tracers_impulse\\L807\\I27\n",
      "file 8series_tracers_impulse\\L807\\I29\n",
      "file 8series_tracers_impulse\\L807\\I3\n",
      "file 8series_tracers_impulse\\L807\\I31\n",
      "file 8series_tracers_impulse\\L807\\I33\n",
      "file 8series_tracers_impulse\\L807\\I35\n",
      "file 8series_tracers_impulse\\L807\\I37\n",
      "file 8series_tracers_impulse\\L807\\I39\n",
      "file 8series_tracers_impulse\\L807\\I40\n",
      "file 8series_tracers_impulse\\L807\\I5\n",
      "file 8series_tracers_impulse\\L807\\I7\n",
      "file 8series_tracers_impulse\\L807\\I9\n",
      "folder 8series_tracers_impulse\\L811\n",
      "file 8series_tracers_impulse\\L811\\I11\n",
      "file 8series_tracers_impulse\\L811\\I13\n",
      "file 8series_tracers_impulse\\L811\\I15\n",
      "file 8series_tracers_impulse\\L811\\I17\n",
      "file 8series_tracers_impulse\\L811\\I19\n",
      "file 8series_tracers_impulse\\L811\\I2\n",
      "file 8series_tracers_impulse\\L811\\I21\n",
      "file 8series_tracers_impulse\\L811\\I23\n",
      "file 8series_tracers_impulse\\L811\\I25\n",
      "file 8series_tracers_impulse\\L811\\I27\n",
      "file 8series_tracers_impulse\\L811\\I29\n",
      "file 8series_tracers_impulse\\L811\\I3\n",
      "file 8series_tracers_impulse\\L811\\I31\n",
      "file 8series_tracers_impulse\\L811\\I33\n",
      "file 8series_tracers_impulse\\L811\\I35\n",
      "file 8series_tracers_impulse\\L811\\I37\n",
      "file 8series_tracers_impulse\\L811\\I39\n",
      "file 8series_tracers_impulse\\L811\\I40\n",
      "file 8series_tracers_impulse\\L811\\I5\n",
      "file 8series_tracers_impulse\\L811\\I7\n",
      "file 8series_tracers_impulse\\L811\\I9\n",
      "folder 8series_tracers_impulse\\L815\n",
      "file 8series_tracers_impulse\\L815\\I11\n",
      "file 8series_tracers_impulse\\L815\\I13\n",
      "file 8series_tracers_impulse\\L815\\I15\n",
      "file 8series_tracers_impulse\\L815\\I17\n",
      "file 8series_tracers_impulse\\L815\\I19\n",
      "file 8series_tracers_impulse\\L815\\I2\n",
      "file 8series_tracers_impulse\\L815\\I21\n",
      "file 8series_tracers_impulse\\L815\\I23\n",
      "file 8series_tracers_impulse\\L815\\I25\n",
      "file 8series_tracers_impulse\\L815\\I27\n",
      "file 8series_tracers_impulse\\L815\\I29\n",
      "file 8series_tracers_impulse\\L815\\I3\n",
      "file 8series_tracers_impulse\\L815\\I31\n",
      "file 8series_tracers_impulse\\L815\\I33\n",
      "file 8series_tracers_impulse\\L815\\I35\n",
      "file 8series_tracers_impulse\\L815\\I37\n",
      "file 8series_tracers_impulse\\L815\\I39\n",
      "file 8series_tracers_impulse\\L815\\I40\n",
      "file 8series_tracers_impulse\\L815\\I5\n",
      "file 8series_tracers_impulse\\L815\\I7\n",
      "file 8series_tracers_impulse\\L815\\I9\n",
      "folder 8series_tracers_impulse\\L819\n",
      "file 8series_tracers_impulse\\L819\\I11\n",
      "file 8series_tracers_impulse\\L819\\I13\n",
      "file 8series_tracers_impulse\\L819\\I15\n",
      "file 8series_tracers_impulse\\L819\\I17\n",
      "file 8series_tracers_impulse\\L819\\I19\n",
      "file 8series_tracers_impulse\\L819\\I2\n",
      "file 8series_tracers_impulse\\L819\\I21\n",
      "file 8series_tracers_impulse\\L819\\I23\n",
      "file 8series_tracers_impulse\\L819\\I25\n",
      "file 8series_tracers_impulse\\L819\\I27\n",
      "file 8series_tracers_impulse\\L819\\I29\n",
      "file 8series_tracers_impulse\\L819\\I3\n",
      "file 8series_tracers_impulse\\L819\\I31\n",
      "file 8series_tracers_impulse\\L819\\I33\n",
      "file 8series_tracers_impulse\\L819\\I35\n",
      "file 8series_tracers_impulse\\L819\\I37\n",
      "file 8series_tracers_impulse\\L819\\I39\n",
      "file 8series_tracers_impulse\\L819\\I40\n",
      "file 8series_tracers_impulse\\L819\\I5\n",
      "file 8series_tracers_impulse\\L819\\I7\n",
      "file 8series_tracers_impulse\\L819\\I9\n",
      "folder 8series_tracers_impulse\\L823\n",
      "file 8series_tracers_impulse\\L823\\I11\n",
      "file 8series_tracers_impulse\\L823\\I13\n",
      "file 8series_tracers_impulse\\L823\\I15\n",
      "file 8series_tracers_impulse\\L823\\I17\n",
      "file 8series_tracers_impulse\\L823\\I19\n",
      "file 8series_tracers_impulse\\L823\\I2\n",
      "file 8series_tracers_impulse\\L823\\I21\n",
      "file 8series_tracers_impulse\\L823\\I23\n",
      "file 8series_tracers_impulse\\L823\\I25\n",
      "file 8series_tracers_impulse\\L823\\I27\n",
      "file 8series_tracers_impulse\\L823\\I29\n",
      "file 8series_tracers_impulse\\L823\\I3\n",
      "file 8series_tracers_impulse\\L823\\I31\n",
      "file 8series_tracers_impulse\\L823\\I33\n",
      "file 8series_tracers_impulse\\L823\\I35\n",
      "file 8series_tracers_impulse\\L823\\I37\n",
      "file 8series_tracers_impulse\\L823\\I39\n",
      "file 8series_tracers_impulse\\L823\\I40\n",
      "file 8series_tracers_impulse\\L823\\I5\n",
      "file 8series_tracers_impulse\\L823\\I7\n",
      "file 8series_tracers_impulse\\L823\\I9\n",
      "folder 8series_tracers_impulse\\L826\n",
      "file 8series_tracers_impulse\\L826\\I11\n",
      "file 8series_tracers_impulse\\L826\\I13\n",
      "file 8series_tracers_impulse\\L826\\I15\n",
      "file 8series_tracers_impulse\\L826\\I17\n",
      "file 8series_tracers_impulse\\L826\\I19\n",
      "file 8series_tracers_impulse\\L826\\I2\n",
      "file 8series_tracers_impulse\\L826\\I21\n",
      "file 8series_tracers_impulse\\L826\\I23\n",
      "file 8series_tracers_impulse\\L826\\I25\n",
      "file 8series_tracers_impulse\\L826\\I27\n",
      "file 8series_tracers_impulse\\L826\\I29\n",
      "file 8series_tracers_impulse\\L826\\I3\n",
      "file 8series_tracers_impulse\\L826\\I31\n",
      "file 8series_tracers_impulse\\L826\\I33\n",
      "file 8series_tracers_impulse\\L826\\I35\n",
      "file 8series_tracers_impulse\\L826\\I37\n",
      "file 8series_tracers_impulse\\L826\\I39\n",
      "file 8series_tracers_impulse\\L826\\I40\n",
      "file 8series_tracers_impulse\\L826\\I5\n",
      "file 8series_tracers_impulse\\L826\\I7\n",
      "file 8series_tracers_impulse\\L826\\I9\n",
      "folder 8series_tracers_impulse\\L831\n",
      "file 8series_tracers_impulse\\L831\\I11\n",
      "file 8series_tracers_impulse\\L831\\I13\n",
      "file 8series_tracers_impulse\\L831\\I15\n",
      "file 8series_tracers_impulse\\L831\\I17\n",
      "file 8series_tracers_impulse\\L831\\I19\n",
      "file 8series_tracers_impulse\\L831\\I2\n",
      "file 8series_tracers_impulse\\L831\\I21\n",
      "file 8series_tracers_impulse\\L831\\I23\n",
      "file 8series_tracers_impulse\\L831\\I25\n",
      "file 8series_tracers_impulse\\L831\\I27\n",
      "file 8series_tracers_impulse\\L831\\I29\n",
      "file 8series_tracers_impulse\\L831\\I3\n",
      "file 8series_tracers_impulse\\L831\\I31\n",
      "file 8series_tracers_impulse\\L831\\I33\n",
      "file 8series_tracers_impulse\\L831\\I35\n",
      "file 8series_tracers_impulse\\L831\\I37\n",
      "file 8series_tracers_impulse\\L831\\I39\n",
      "file 8series_tracers_impulse\\L831\\I40\n",
      "file 8series_tracers_impulse\\L831\\I5\n",
      "file 8series_tracers_impulse\\L831\\I7\n",
      "file 8series_tracers_impulse\\L831\\I9\n",
      "folder 8series_tracers_impulse\\L834\n",
      "file 8series_tracers_impulse\\L834\\I11\n",
      "file 8series_tracers_impulse\\L834\\I13\n",
      "file 8series_tracers_impulse\\L834\\I15\n",
      "file 8series_tracers_impulse\\L834\\I17\n",
      "file 8series_tracers_impulse\\L834\\I19\n",
      "file 8series_tracers_impulse\\L834\\I2\n",
      "file 8series_tracers_impulse\\L834\\I21\n",
      "file 8series_tracers_impulse\\L834\\I23\n",
      "file 8series_tracers_impulse\\L834\\I25\n",
      "file 8series_tracers_impulse\\L834\\I27\n",
      "file 8series_tracers_impulse\\L834\\I29\n",
      "file 8series_tracers_impulse\\L834\\I3\n",
      "file 8series_tracers_impulse\\L834\\I31\n",
      "file 8series_tracers_impulse\\L834\\I33\n",
      "file 8series_tracers_impulse\\L834\\I35\n",
      "file 8series_tracers_impulse\\L834\\I37\n",
      "file 8series_tracers_impulse\\L834\\I39\n",
      "file 8series_tracers_impulse\\L834\\I40\n",
      "file 8series_tracers_impulse\\L834\\I5\n",
      "file 8series_tracers_impulse\\L834\\I7\n",
      "file 8series_tracers_impulse\\L834\\I9\n",
      "     Charge_mass  Standoff_distance  Peak_Impulse  Peak_Time\n",
      "0            1.5                5.5     39.599709   0.013195\n",
      "1            1.5                6.5     33.715698   0.016188\n",
      "2            1.5                7.5     29.322989   0.019192\n",
      "3            1.5                8.5     25.929310   0.022203\n",
      "4            1.5                9.5     23.232174   0.025220\n",
      "..           ...                ...           ...        ...\n",
      "205         17.0               19.5     57.227844   0.051088\n",
      "206         17.0               20.0     55.815800   0.052595\n",
      "207         17.0                2.5    328.080139   0.002997\n",
      "208         17.0                3.5    245.814362   0.004663\n",
      "209         17.0                4.5    206.684463   0.006980\n",
      "\n",
      "[210 rows x 4 columns]\n"
     ]
    }
   ],
   "source": [
    "df = pd.DataFrame(columns = ['Charge_mass', 'Standoff_distance', 'Peak_Impulse', 'Peak_Time'])\n",
    "print (df)\n",
    "\n",
    "# Access each folder inside input folder\n",
    "for folder in input_dir2:\n",
    "    print (\"folder\", folder)\n",
    "    charge_mass = int(folder.stem[2:])/2\n",
    "    \n",
    "    # Make a list of data file names\n",
    "    files = list(folder.rglob(\"*\"))\n",
    "        \n",
    "    # Access each file \n",
    "    for file in files:\n",
    "        print (\"file\", file)\n",
    "        stand_dis = int(file.stem[1:])/2\n",
    "            \n",
    "        # Create a dataframe out of data files and use delimiters\n",
    "        df1 = pd.read_csv(file,\n",
    "                          delimiter=\"\\s+\",\n",
    "                          skiprows = 7,\n",
    "                          nrows= 1,\n",
    "                          engine = 'python',\n",
    "                          header = None)\n",
    "            \n",
    "        # append rows to an empty DataFrame\n",
    "        new_row = {'Charge_mass' : [charge_mass], 'Standoff_distance' : [stand_dis], 'Peak_Impulse' : [df1.iloc[0,2]], 'Peak_Time' : [df1.iloc[0,5]]}\n",
    "        new_row_data = pd.DataFrame(new_row)\n",
    "        df = pd.concat([df, new_row_data], ignore_index = True)\n",
    "print (df)     "
   ]
  },
  {
   "cell_type": "markdown",
   "source": [
    "# Create peak pressure file - Attempt 2 (with peak index)"
   ],
   "metadata": {
    "collapsed": false
   },
   "id": "f32813fef8d1c64"
  },
  {
   "cell_type": "markdown",
   "source": [
    "## Access input folders 2"
   ],
   "metadata": {
    "collapsed": false
   },
   "id": "81f5787eddf8409a"
  },
  {
   "cell_type": "code",
   "execution_count": null,
   "outputs": [],
   "source": [
    "#Access input folder\n",
    "input_dir3 = Path (\"Pressure_curves_excel_with_MinMaxTime\")\n",
    "print (\"3\",input_dir3)\n",
    "\n",
    "#Access folders inside input folder\n",
    "input_dir4 =  [folder for folder in input_dir3.iterdir() if folder.is_dir()]\n",
    "print (\"4\",input_dir4)"
   ],
   "metadata": {
    "collapsed": false
   },
   "id": "111244729cfe82a1"
  },
  {
   "cell_type": "markdown",
   "source": [
    "## Create peak pressure dataframe"
   ],
   "metadata": {
    "collapsed": false
   },
   "id": "f401a6f1bbe0a184"
  },
  {
   "cell_type": "code",
   "execution_count": null,
   "outputs": [],
   "source": [
    "df1 = pd.DataFrame(columns = ['Charge_mass', 'Standoff_distance', 'Peak pressure', 'Peak time', 'Peak index'])\n",
    "# Access each folder inside input folder\n",
    "for folder in input_dir4:\n",
    "    print (\"folder\", folder)\n",
    "    charge_mass = int(folder.stem[4:])/2\n",
    "    \n",
    "    # Make a list of data file names\n",
    "    files = list(folder.rglob(\"*\"))\n",
    "        \n",
    "    # Access each file \n",
    "    for file in files:\n",
    "        wrkbk = openpyxl.load_workbook(file)\n",
    "        sh = wrkbk.active\n",
    "        stand_dis = math.ceil(int(file.stem[1:])/2)\n",
    "        peak_time = sh.cell(row = 2, column = 4)\n",
    "        print ('file', file, 'peak_time', peak_time.value)\n",
    "        \n",
    "        # iterate through excel and display data\n",
    "        for i in range(2, sh.max_row+1):\n",
    "            cell_time = sh.cell (row = i, column = 1)\n",
    "            #print (cell_time.value)\n",
    "            if round(cell_time.value, 10) >= peak_time.value:\n",
    "                print (\"cell_time\", cell_time.value)\n",
    "                peak_index = i\n",
    "                peak_pressure = sh.cell (row = i, column = 2)\n",
    "                print (\"peak_index\", i, 'peak_pressure', peak_pressure.value)\n",
    "                \n",
    "                # append rows to an empty DataFrame\n",
    "                new_row = {'Charge_mass' : [charge_mass],\n",
    "                           'Standoff_distance' : [stand_dis],\n",
    "                           'Peak pressure' : [peak_pressure.value],\n",
    "                           'Peak time' : [peak_time.value],\n",
    "                           'Peak index' : [i]}\n",
    "                new_row_data = pd.DataFrame(new_row)\n",
    "                df1 = pd.concat([df1, new_row_data], ignore_index = True)\n",
    "                break     "
   ],
   "metadata": {
    "collapsed": false
   },
   "id": "83385fa08a437827"
  },
  {
   "cell_type": "code",
   "execution_count": null,
   "outputs": [],
   "source": [
    "print (df1)"
   ],
   "metadata": {
    "collapsed": false
   },
   "id": "21c8493bae1d97fd"
  },
  {
   "cell_type": "markdown",
   "source": [
    "## Create peak pressure excel file"
   ],
   "metadata": {
    "collapsed": false
   },
   "id": "4f5511731d68c276"
  },
  {
   "cell_type": "code",
   "execution_count": null,
   "id": "a0eae7a7-e2cc-4972-afd4-ca00de2d4c65",
   "metadata": {},
   "outputs": [],
   "source": [
    "with pd.ExcelWriter('Peak_Incident_Pressure_with_peak_index.xlsx', engine = \"openpyxl\", mode='a', if_sheet_exists='replace') as writer:  \n",
    "    df1.to_excel(writer, sheet_name = \"Sheet1\", index = False, header = True)"
   ]
  }
 ],
 "metadata": {
  "kernelspec": {
   "display_name": "Python 3 (ipykernel)",
   "language": "python",
   "name": "python3"
  },
  "language_info": {
   "codemirror_mode": {
    "name": "ipython",
    "version": 3
   },
   "file_extension": ".py",
   "mimetype": "text/x-python",
   "name": "python",
   "nbconvert_exporter": "python",
   "pygments_lexer": "ipython3",
   "version": "3.9.7"
  }
 },
 "nbformat": 4,
 "nbformat_minor": 5
}
