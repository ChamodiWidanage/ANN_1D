{
 "cells": [
  {
   "cell_type": "markdown",
   "id": "bce06074-b5c2-4913-890f-cb599b203ed2",
   "metadata": {},
   "source": [
    "## Import libraries"
   ]
  },
  {
   "cell_type": "code",
   "execution_count": 1,
   "outputs": [],
   "source": [
    "from pathlib import Path\n",
    "import pandas as pd\n",
    "import math\n",
    "import openpyxl"
   ],
   "metadata": {
    "collapsed": false,
    "ExecuteTime": {
     "end_time": "2023-12-14T01:51:20.240346300Z",
     "start_time": "2023-12-14T01:51:08.501950800Z"
    }
   },
   "id": "34feb292-f5a4-45b9-aa07-22571998d2e1"
  },
  {
   "cell_type": "markdown",
   "source": [
    "# Create peak pressure file - Attempt 1 (without peak index)"
   ],
   "metadata": {
    "collapsed": false
   },
   "id": "22d05affddf4eb66"
  },
  {
   "cell_type": "markdown",
   "id": "446d2850-b45e-4d5f-86dd-fa14200e168b",
   "metadata": {
    "tags": []
   },
   "source": [
    "## Access input folders"
   ]
  },
  {
   "cell_type": "code",
   "execution_count": 4,
   "id": "444c2bb8-1d9e-4aca-baec-9d85bd985ece",
   "metadata": {
    "ExecuteTime": {
     "end_time": "2023-12-14T01:55:50.235260Z",
     "start_time": "2023-12-14T01:55:50.220253500Z"
    }
   },
   "outputs": [
    {
     "name": "stdout",
     "output_type": "stream",
     "text": [
      "1 8series_tracers_pressure\n",
      "2 [WindowsPath('8series_tracers_pressure/L803')]\n"
     ]
    }
   ],
   "source": [
    "#Access input folder\n",
    "input_dir1 = Path (\"8series_tracers_pressure\")\n",
    "print (\"1\",input_dir1)\n",
    "\n",
    "#Access folders inside input folder\n",
    "input_dir2 =  [folder for folder in input_dir1.iterdir() if folder.is_dir()]\n",
    "print (\"2\",input_dir2)"
   ]
  },
  {
   "cell_type": "markdown",
   "id": "f639c56a-0011-486f-8150-c1bd12e30d00",
   "metadata": {
    "jp-MarkdownHeadingCollapsed": true,
    "tags": []
   },
   "source": [
    "## Create output files 1"
   ]
  },
  {
   "cell_type": "code",
   "execution_count": null,
   "id": "d4d6ba62-e4bd-4c60-bae7-0f7eebbe9bd8",
   "metadata": {},
   "outputs": [],
   "source": [
    "%%timeit -r1 -n1\n",
    "# define current work directory\n",
    "current_dir = Path.cwd()\n",
    "\n",
    "# access the template to be used to generate files\n",
    "excel_template = current_dir/ \"Template.xlsx\"\n",
    "\n",
    "# Access each folder inside input folder\n",
    "for folder in input_dir2:\n",
    "    print (\"folder\", folder)\n",
    "    \n",
    "    # Make a list of data file names\n",
    "    files = list(folder.rglob(\"*\"))\n",
    "    \n",
    "    # Make a set of file names\n",
    "    keys = set (file.stem for file in files)\n",
    "    \n",
    "    # Use xlwings library to create excel files\n",
    "    with xw.App (visible = False) as app:\n",
    "        \n",
    "        # for loop for keys\n",
    "        for key in keys:\n",
    "            \n",
    "            # Open template excel file\n",
    "            wb = app.books.open(excel_template)\n",
    "            \n",
    "            # for loop for files\n",
    "            for file in files:\n",
    "                if file.stem == key:\n",
    "                    print (\"file.stem = \", file.stem)\n",
    "                    print (\"key = \", key)\n",
    "                    df = pd.read_csv(file, delimiter=\"\\s+\", skiprows = 8, skipfooter = 1, header = None, names = [\"time\", \"pressure\"])\n",
    "                    wb.sheets[0].range(\"A1\").options(index=False).value = df\n",
    "            output_dir = current_dir/ \"Pressure_curves_excel\"\n",
    "            output_dir.mkdir(exist_ok = True)\n",
    "            output_dir1 = output_dir/ folder.stem\n",
    "            output_dir1.mkdir(exist_ok = True)\n",
    "            wb.save(output_dir1/f\"{key}.xlsx\")\n",
    "        #print (\"file\",folder.stem, file.stem)\n",
    "        #current_dir = Path.cwd()\n",
    "        #excel_template = current_dir/ \"Template.xlsx\"\n",
    "        "
   ]
  },
  {
   "cell_type": "markdown",
   "id": "6be55513-d92d-4069-b7c3-1291dd6efadd",
   "metadata": {},
   "source": [
    "## Create output files 2"
   ]
  },
  {
   "cell_type": "code",
   "execution_count": 6,
   "id": "28ac30c9-9a38-4e3e-bafb-0e9e680d176c",
   "metadata": {
    "ExecuteTime": {
     "end_time": "2023-12-14T01:56:49.022129400Z",
     "start_time": "2023-12-14T01:56:48.939429900Z"
    }
   },
   "outputs": [
    {
     "name": "stdout",
     "output_type": "stream",
     "text": [
      "Empty DataFrame\n",
      "Columns: [Charge_mass, Standoff_distance, Peak_Pressure, Peak_time]\n",
      "Index: []\n",
      "folder 8series_tracers_pressure\\L803\n",
      "file 8series_tracers_pressure\\L803\\T11\n",
      "file 8series_tracers_pressure\\L803\\T13\n",
      "file 8series_tracers_pressure\\L803\\T15\n",
      "file 8series_tracers_pressure\\L803\\T17\n",
      "file 8series_tracers_pressure\\L803\\T19\n",
      "file 8series_tracers_pressure\\L803\\T2\n",
      "file 8series_tracers_pressure\\L803\\T21\n",
      "file 8series_tracers_pressure\\L803\\T23\n",
      "file 8series_tracers_pressure\\L803\\T25\n",
      "file 8series_tracers_pressure\\L803\\T27\n",
      "file 8series_tracers_pressure\\L803\\T29\n",
      "file 8series_tracers_pressure\\L803\\T3\n",
      "file 8series_tracers_pressure\\L803\\T31\n",
      "file 8series_tracers_pressure\\L803\\T33\n",
      "file 8series_tracers_pressure\\L803\\T35\n",
      "file 8series_tracers_pressure\\L803\\T37\n",
      "file 8series_tracers_pressure\\L803\\T39\n",
      "file 8series_tracers_pressure\\L803\\T40\n",
      "file 8series_tracers_pressure\\L803\\T5\n",
      "file 8series_tracers_pressure\\L803\\T7\n",
      "file 8series_tracers_pressure\\L803\\T9\n",
      "    Charge_mass  Standoff_distance  Peak_Pressure  Peak_time\n",
      "0           1.5                5.5       132341.0   0.010118\n",
      "1           1.5                6.5       124915.0   0.012848\n",
      "2           1.5                7.5       120104.0   0.015636\n",
      "3           1.5                8.5       116750.0   0.018465\n",
      "4           1.5                9.5       114287.0   0.021324\n",
      "5           1.5                1.0      1455510.0   0.000459\n",
      "6           1.5               10.5       112406.0   0.024207\n",
      "7           1.5               11.5       110927.0   0.027107\n",
      "8           1.5               12.5       109736.0   0.030022\n",
      "9           1.5               13.5       108758.0   0.032949\n",
      "10          1.5               14.5       107942.0   0.035886\n",
      "11          1.5                1.5       585860.0   0.001005\n",
      "12          1.5               15.5       107252.0   0.038832\n",
      "13          1.5               16.5       106662.0   0.041785\n",
      "14          1.5               17.5       106152.0   0.044743\n",
      "15          1.5               18.5       105708.0   0.047708\n",
      "16          1.5               19.5       105318.0   0.050677\n",
      "17          1.5               20.0       105141.0   0.052163\n",
      "18          1.5                2.5       240477.0   0.002734\n",
      "19          1.5                3.5       170823.0   0.004976\n",
      "20          1.5                4.5       145075.0   0.007476\n"
     ]
    }
   ],
   "source": [
    "df = pd.DataFrame(columns = ['Charge_mass', 'Standoff_distance', 'Peak_Pressure', 'Peak_time'])\n",
    "print (df)\n",
    "\n",
    "# Access each folder inside input folder\n",
    "for folder in input_dir2:\n",
    "    print (\"folder\", folder)\n",
    "    charge_mass = int(folder.stem[2:])/2\n",
    "    \n",
    "    # Make a list of data file names\n",
    "    files = list(folder.rglob(\"*\"))\n",
    "        \n",
    "    # Access each file \n",
    "    for file in files:\n",
    "        print (\"file\", file)\n",
    "        stand_dis = int(file.stem[1:])/2\n",
    "            \n",
    "        # Create a dataframe out of data files and use delimiters\n",
    "        df1 = pd.read_csv(file,\n",
    "                          delimiter=\"\\s+\",\n",
    "                          skiprows = 7,\n",
    "                          nrows= 1,\n",
    "                          engine = 'python',\n",
    "                          header = None)\n",
    "            \n",
    "        # append rows to an empty DataFrame\n",
    "        new_row = {'Charge_mass' : [charge_mass], 'Standoff_distance' : [stand_dis], 'Peak_Pressure' : [df1.iloc[0,2]], 'Peak_time' : [df1.iloc[0,5]]}\n",
    "        new_row_data = pd.DataFrame(new_row)\n",
    "        df = pd.concat([df, new_row_data], ignore_index = True)\n",
    "print (df)     "
   ]
  },
  {
   "cell_type": "markdown",
   "source": [
    "# Create peak pressure file - Attempt 2 (with peak index)"
   ],
   "metadata": {
    "collapsed": false
   },
   "id": "f32813fef8d1c64"
  },
  {
   "cell_type": "markdown",
   "source": [
    "## Access input folders 2"
   ],
   "metadata": {
    "collapsed": false
   },
   "id": "81f5787eddf8409a"
  },
  {
   "cell_type": "code",
   "execution_count": null,
   "outputs": [],
   "source": [
    "#Access input folder\n",
    "input_dir3 = Path (\"Pressure_curves_excel_with_MinMaxTime\")\n",
    "print (\"3\",input_dir3)\n",
    "\n",
    "#Access folders inside input folder\n",
    "input_dir4 =  [folder for folder in input_dir3.iterdir() if folder.is_dir()]\n",
    "print (\"4\",input_dir4)"
   ],
   "metadata": {
    "collapsed": false
   },
   "id": "111244729cfe82a1"
  },
  {
   "cell_type": "markdown",
   "source": [
    "## Create peak pressure dataframe"
   ],
   "metadata": {
    "collapsed": false
   },
   "id": "f401a6f1bbe0a184"
  },
  {
   "cell_type": "code",
   "execution_count": null,
   "outputs": [],
   "source": [
    "df1 = pd.DataFrame(columns = ['Charge_mass', 'Standoff_distance', 'Peak pressure', 'Peak time', 'Peak index'])\n",
    "# Access each folder inside input folder\n",
    "for folder in input_dir4:\n",
    "    print (\"folder\", folder)\n",
    "    charge_mass = int(folder.stem[4:])/2\n",
    "    \n",
    "    # Make a list of data file names\n",
    "    files = list(folder.rglob(\"*\"))\n",
    "        \n",
    "    # Access each file \n",
    "    for file in files:\n",
    "        wrkbk = openpyxl.load_workbook(file)\n",
    "        sh = wrkbk.active\n",
    "        stand_dis = math.ceil(int(file.stem[1:])/2)\n",
    "        peak_time = sh.cell(row = 2, column = 4)\n",
    "        print ('file', file, 'peak_time', peak_time.value)\n",
    "        \n",
    "        # iterate through excel and display data\n",
    "        for i in range(2, sh.max_row+1):\n",
    "            cell_time = sh.cell (row = i, column = 1)\n",
    "            #print (cell_time.value)\n",
    "            if round(cell_time.value, 10) >= peak_time.value:\n",
    "                print (\"cell_time\", cell_time.value)\n",
    "                peak_index = i\n",
    "                peak_pressure = sh.cell (row = i, column = 2)\n",
    "                print (\"peak_index\", i, 'peak_pressure', peak_pressure.value)\n",
    "                \n",
    "                # append rows to an empty DataFrame\n",
    "                new_row = {'Charge_mass' : [charge_mass],\n",
    "                           'Standoff_distance' : [stand_dis],\n",
    "                           'Peak pressure' : [peak_pressure.value],\n",
    "                           'Peak time' : [peak_time.value],\n",
    "                           'Peak index' : [i]}\n",
    "                new_row_data = pd.DataFrame(new_row)\n",
    "                df1 = pd.concat([df1, new_row_data], ignore_index = True)\n",
    "                break     "
   ],
   "metadata": {
    "collapsed": false
   },
   "id": "83385fa08a437827"
  },
  {
   "cell_type": "code",
   "execution_count": null,
   "outputs": [],
   "source": [
    "print (df1)"
   ],
   "metadata": {
    "collapsed": false
   },
   "id": "21c8493bae1d97fd"
  },
  {
   "cell_type": "markdown",
   "source": [
    "## Create peak pressure excel file"
   ],
   "metadata": {
    "collapsed": false
   },
   "id": "4f5511731d68c276"
  },
  {
   "cell_type": "code",
   "execution_count": null,
   "id": "a0eae7a7-e2cc-4972-afd4-ca00de2d4c65",
   "metadata": {},
   "outputs": [],
   "source": [
    "with pd.ExcelWriter('Peak_Incident_Pressure_with_peak_index.xlsx', engine = \"openpyxl\", mode='a', if_sheet_exists='replace') as writer:  \n",
    "    df1.to_excel(writer, sheet_name = \"Sheet1\", index = False, header = True)"
   ]
  }
 ],
 "metadata": {
  "kernelspec": {
   "display_name": "Python 3 (ipykernel)",
   "language": "python",
   "name": "python3"
  },
  "language_info": {
   "codemirror_mode": {
    "name": "ipython",
    "version": 3
   },
   "file_extension": ".py",
   "mimetype": "text/x-python",
   "name": "python",
   "nbconvert_exporter": "python",
   "pygments_lexer": "ipython3",
   "version": "3.9.7"
  }
 },
 "nbformat": 4,
 "nbformat_minor": 5
}
